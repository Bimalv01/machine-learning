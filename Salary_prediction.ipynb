{
  "nbformat": 4,
  "nbformat_minor": 0,
  "metadata": {
    "colab": {
      "provenance": [],
      "authorship_tag": "ABX9TyPiROp1/3KPqYlihdl62VXx",
      "include_colab_link": true
    },
    "kernelspec": {
      "name": "python3",
      "display_name": "Python 3"
    },
    "language_info": {
      "name": "python"
    }
  },
  "cells": [
    {
      "cell_type": "markdown",
      "metadata": {
        "id": "view-in-github",
        "colab_type": "text"
      },
      "source": [
        "<a href=\"https://colab.research.google.com/github/Bimalv01/machine-learning/blob/main/Salary_prediction.ipynb\" target=\"_parent\"><img src=\"https://colab.research.google.com/assets/colab-badge.svg\" alt=\"Open In Colab\"/></a>"
      ]
    },
    {
      "cell_type": "code",
      "execution_count": 3,
      "metadata": {
        "id": "enHKllj8I_Xu"
      },
      "outputs": [],
      "source": [
        "\n",
        "import numpy as np\n",
        "import pandas as pd\n",
        "import matplotlib.pyplot as plt"
      ]
    },
    {
      "cell_type": "code",
      "source": [
        "dataset = pd.read_csv('D:/mca sem 2/ml/SD (4).csv')\n",
        "print(dataset.head())\n",
        "\n",
        "\"\"\"## **Describe Data**\"\"\"\n",
        "print(dataset.describe())\n",
        "\n",
        "\"\"\"## **Define Target Variable (y) and Feature Variables (X)**\"\"\"\n",
        "X = dataset.iloc[:, 0:1].values\n",
        "y = dataset.iloc[:, 1:2].values\n",
        "\n",
        "\"\"\"## **Handling Missing Data**\"\"\"\n",
        "from sklearn.impute import SimpleImputer\n",
        "imputer = SimpleImputer(missing_values=np.NaN, strategy='mean')\n",
        "X1 = imputer.fit_transform(X)\n",
        "y1 = imputer.fit_transform(y)\n",
        "\n",
        "\"\"\"## **Splitting the Dataset into Train and Test Set**\"\"\"\n",
        "from sklearn.model_selection import train_test_split\n",
        "X_train, X_test, y_train, y_test = train_test_split(X1, y1, test_size=0.3, random_state=0)\n"
      ],
      "metadata": {
        "id": "2iRR33SvJPHd"
      },
      "execution_count": null,
      "outputs": []
    },
    {
      "cell_type": "code",
      "source": [
        "\"\"\"## **Fit the Model to the Training Set**\"\"\"\n",
        "from sklearn.linear_model import LinearRegression\n",
        "regressor = LinearRegression()\n",
        "regressor.fit(X_train, y_train)\n",
        "\n",
        "\"\"\"## **Predict the Test Set Results**\"\"\"\n",
        "y_pred = regressor.predict(X_test)\n",
        "print(\"Predictions: \", y_pred)\n",
        "\n",
        "\"\"\"## **Model Evaluation**\"\"\"\n",
        "from sklearn.metrics import mean_squared_error, r2_score\n",
        "mse = mean_squared_error(y_test, y_pred)\n",
        "r2 = r2_score(y_test, y_pred)\n",
        "print(f\"Mean Squared Error: {mse}\")\n",
        "print(f\"R^2 Score: {r2}\")\n",
        "\n",
        "# Model Score\n",
        "model_score = regressor.score(X1, y1)\n",
        "print(f\"Model Score: {model_score}\")\n",
        "\n",
        "\"\"\"## **Prediction for a New Data Point**\"\"\"\n",
        "new_prediction = regressor.predict([[1.1]])\n",
        "print(f\"Prediction for 1.1 years of experience: {new_prediction}\")\n"
      ],
      "metadata": {
        "id": "___A4QMJJmiR"
      },
      "execution_count": null,
      "outputs": []
    },
    {
      "cell_type": "code",
      "source": [
        "\"\"\"## **Visualization of the Training Set Results**\"\"\"\n",
        "plt.scatter(X_train, y_train, color='red')\n",
        "plt.plot(X_train, regressor.predict(X_train), color='blue')\n",
        "plt.title(\"Salary vs Experience (Training set)\")\n",
        "plt.xlabel(\"Years of Experience\")\n",
        "plt.ylabel(\"Salary\")\n",
        "plt.show()\n",
        "\n",
        "\"\"\"## **Visualization of the Test Set Results**\"\"\"\n",
        "plt.scatter(X_test, y_test, color='red')\n",
        "plt.plot(X_train, regressor.predict(X_train), color='blue')\n",
        "plt.title(\"Salary vs Experience (Test set)\")\n",
        "plt.xlabel(\"Years of Experience\")\n",
        "plt.ylabel(\"Salary\")\n",
        "plt.show()"
      ],
      "metadata": {
        "id": "gLwoDMRzJtjv"
      },
      "execution_count": null,
      "outputs": []
    },
    {
      "cell_type": "markdown",
      "source": [
        "Explanation of Steps:\n",
        "\n",
        "Import Libraries: Import the necessary libraries for data manipulation, visualization, and modeling.\n",
        "\n",
        "Import Dataset: Load the dataset from a CSV file.\n",
        "Describe Data: Get an overview of the dataset.\n",
        "\n",
        "Define Target Variable (y) and Feature Variables (X): Separate the features and the target variable.\n",
        "\n",
        "Handling Missing Data: Fill missing values with the mean of the column.\n",
        "Splitting the Dataset into Train and Test Set: Split the data into training and testing sets.\n",
        "\n",
        "Fit the Model to the Training Set: Train the Linear Regression model.\n",
        "Predict the Test Set Results: Make predictions on the test set.\n",
        "\n",
        "Model Evaluation: Evaluate the model using metrics like Mean Squared Error and R^2 Score.\n",
        "\n",
        "Prediction for a New Data Point: Make a prediction for a new data point.\n",
        "Visualization of the Training Set Results: Plot the regression line and the training data points.\n",
        "\n",
        "Visualization of the Test Set Results: Plot the regression line and the test data points.\n",
        "\n",
        "By following these steps, you can ensure that your Simple Linear Regression model is well-documented and easy to understand.\n",
        "\n"
      ],
      "metadata": {
        "id": "sLz00S0qJ8js"
      }
    }
  ]
}